{
 "cells": [
  {
   "cell_type": "markdown",
   "source": [
    "# SIRD model"
   ],
   "metadata": {}
  },
  {
   "cell_type": "code",
   "execution_count": 1,
   "source": [
    "import pandas as pd\r\n",
    "import numpy as np\r\n",
    "from sklearn.linear_model import Ridge\r\n",
    "from sklearn.model_selection import GridSearchCV\r\n",
    "import matplotlib.pyplot as plt"
   ],
   "outputs": [],
   "metadata": {}
  },
  {
   "cell_type": "markdown",
   "source": [
    "<img src='https://www.researchgate.net/profile/Claudio-Struchiner-2/publication/47676805/figure/fig2/AS:343729496969224@1458962906357/SIR-model-Schematic-representation-differential-equations-and-plot-for-the-basic-SIR.png'>\r\n",
    "<p>I chose this model instead of using the SEIR model or other models related to vaccinated cases because people in Thailand are vaccinated only 15.5% (10/08/2021). I also consider the vaccinated as Susceptible because the vaccine can't cover the infection. That's why we consider as the only a 3-state deterministic model (SIR model)</p>"
   ],
   "metadata": {}
  },
  {
   "cell_type": "code",
   "execution_count": 2,
   "source": [
    "def data_spilt(data:'gamma, beta', orders:'order for FIR filter', start:'Start date of your data') -> 'Train and Test':\r\n",
    "    x_train = np.empty((len(data) - start - orders, orders)) # เป็นการสร้างเพื่อให้ไว้เอาข้อมูลเอามาใส่นั้นเอง\r\n",
    "    y_train = data[start + orders:]\r\n",
    "\r\n",
    "    for i in range(len(data) - start - orders):\r\n",
    "        x_train[i] = data[i + start:start + orders + i]\r\n",
    "\r\n",
    "\r\n",
    "    return x_train, y_train"
   ],
   "outputs": [],
   "metadata": {}
  },
  {
   "cell_type": "code",
   "execution_count": 3,
   "source": [
    "covid_df = pd.read_excel('./data/covid19 TH new.xlsx',index_col=0)\r\n",
    "covid_df.index = pd.to_datetime(covid_df.index)"
   ],
   "outputs": [],
   "metadata": {}
  },
  {
   "cell_type": "code",
   "execution_count": 4,
   "source": [
    "covid_df.tail()"
   ],
   "outputs": [
    {
     "output_type": "execute_result",
     "data": {
      "text/html": [
       "<div>\n",
       "<style scoped>\n",
       "    .dataframe tbody tr th:only-of-type {\n",
       "        vertical-align: middle;\n",
       "    }\n",
       "\n",
       "    .dataframe tbody tr th {\n",
       "        vertical-align: top;\n",
       "    }\n",
       "\n",
       "    .dataframe thead th {\n",
       "        text-align: right;\n",
       "    }\n",
       "</style>\n",
       "<table border=\"1\" class=\"dataframe\">\n",
       "  <thead>\n",
       "    <tr style=\"text-align: right;\">\n",
       "      <th></th>\n",
       "      <th>NewConfirmed</th>\n",
       "      <th>NewRecovered</th>\n",
       "      <th>NewHospitalized</th>\n",
       "      <th>NewDeaths</th>\n",
       "      <th>Confirmed</th>\n",
       "      <th>Recovered</th>\n",
       "      <th>Hospitalized</th>\n",
       "      <th>Deaths</th>\n",
       "    </tr>\n",
       "    <tr>\n",
       "      <th>Date</th>\n",
       "      <th></th>\n",
       "      <th></th>\n",
       "      <th></th>\n",
       "      <th></th>\n",
       "      <th></th>\n",
       "      <th></th>\n",
       "      <th></th>\n",
       "      <th></th>\n",
       "    </tr>\n",
       "  </thead>\n",
       "  <tbody>\n",
       "    <tr>\n",
       "      <th>2021-08-04</th>\n",
       "      <td>20200</td>\n",
       "      <td>17975</td>\n",
       "      <td>2037</td>\n",
       "      <td>188</td>\n",
       "      <td>672385</td>\n",
       "      <td>455806</td>\n",
       "      <td>211076</td>\n",
       "      <td>5503</td>\n",
       "    </tr>\n",
       "    <tr>\n",
       "      <th>2021-08-05</th>\n",
       "      <td>20920</td>\n",
       "      <td>17926</td>\n",
       "      <td>2834</td>\n",
       "      <td>160</td>\n",
       "      <td>693305</td>\n",
       "      <td>473732</td>\n",
       "      <td>213910</td>\n",
       "      <td>5663</td>\n",
       "    </tr>\n",
       "    <tr>\n",
       "      <th>2021-08-06</th>\n",
       "      <td>21379</td>\n",
       "      <td>22172</td>\n",
       "      <td>-984</td>\n",
       "      <td>191</td>\n",
       "      <td>714684</td>\n",
       "      <td>495904</td>\n",
       "      <td>212926</td>\n",
       "      <td>5854</td>\n",
       "    </tr>\n",
       "    <tr>\n",
       "      <th>2021-08-07</th>\n",
       "      <td>21838</td>\n",
       "      <td>21108</td>\n",
       "      <td>518</td>\n",
       "      <td>212</td>\n",
       "      <td>736522</td>\n",
       "      <td>517012</td>\n",
       "      <td>213444</td>\n",
       "      <td>6066</td>\n",
       "    </tr>\n",
       "    <tr>\n",
       "      <th>2021-08-08</th>\n",
       "      <td>19983</td>\n",
       "      <td>18503</td>\n",
       "      <td>1342</td>\n",
       "      <td>138</td>\n",
       "      <td>756505</td>\n",
       "      <td>535515</td>\n",
       "      <td>214786</td>\n",
       "      <td>6204</td>\n",
       "    </tr>\n",
       "  </tbody>\n",
       "</table>\n",
       "</div>"
      ],
      "text/plain": [
       "            NewConfirmed  NewRecovered  NewHospitalized  NewDeaths  Confirmed  \\\n",
       "Date                                                                            \n",
       "2021-08-04         20200         17975             2037        188     672385   \n",
       "2021-08-05         20920         17926             2834        160     693305   \n",
       "2021-08-06         21379         22172             -984        191     714684   \n",
       "2021-08-07         21838         21108              518        212     736522   \n",
       "2021-08-08         19983         18503             1342        138     756505   \n",
       "\n",
       "            Recovered  Hospitalized  Deaths  \n",
       "Date                                         \n",
       "2021-08-04     455806        211076    5503  \n",
       "2021-08-05     473732        213910    5663  \n",
       "2021-08-06     495904        212926    5854  \n",
       "2021-08-07     517012        213444    6066  \n",
       "2021-08-08     535515        214786    6204  "
      ]
     },
     "metadata": {},
     "execution_count": 4
    }
   ],
   "metadata": {}
  },
  {
   "cell_type": "code",
   "execution_count": 5,
   "source": [
    "def ridge(x, y):\r\n",
    "    print('\\nStart searching good parameters for the task...')\r\n",
    "    parameters = {'alpha': np.arange(0, 0.40005, 0.00005).tolist(), # create range of alpha by numpy\r\n",
    "                  \"tol\": [1e-08],\r\n",
    "                  'fit_intercept': [True, False],\r\n",
    "                  'normalize': [True, False]}\r\n",
    "\r\n",
    "    clf = GridSearchCV(Ridge(), parameters, n_jobs=-1, cv=5)\r\n",
    "    clf.fit(x, y)\r\n",
    "\r\n",
    "    print('\\nResults for the parameters grid search:')\r\n",
    "    print('Model:', clf.best_estimator_)\r\n",
    "    print('Score R^2:', clf.best_score_)\r\n",
    "\r\n",
    "    return clf"
   ],
   "outputs": [],
   "metadata": {}
  },
  {
   "cell_type": "code",
   "execution_count": 6,
   "source": [
    "'''\r\n",
    "-------Data-------\r\n",
    "'''\r\n",
    "# ต้องเริ่มตั้งแต่วันที่เริ่มมีการติดเชื้อ เพราะว่าไม่งั้นจะทำให้เกิดการใช้ Infected_0 ที่ทำให้ค่าที่คำนวณผิดได้\r\n",
    "covid_df = covid_df['2021':]"
   ],
   "outputs": [],
   "metadata": {}
  },
  {
   "cell_type": "code",
   "execution_count": 7,
   "source": [
    "covid_df"
   ],
   "outputs": [
    {
     "output_type": "execute_result",
     "data": {
      "text/html": [
       "<div>\n",
       "<style scoped>\n",
       "    .dataframe tbody tr th:only-of-type {\n",
       "        vertical-align: middle;\n",
       "    }\n",
       "\n",
       "    .dataframe tbody tr th {\n",
       "        vertical-align: top;\n",
       "    }\n",
       "\n",
       "    .dataframe thead th {\n",
       "        text-align: right;\n",
       "    }\n",
       "</style>\n",
       "<table border=\"1\" class=\"dataframe\">\n",
       "  <thead>\n",
       "    <tr style=\"text-align: right;\">\n",
       "      <th></th>\n",
       "      <th>NewConfirmed</th>\n",
       "      <th>NewRecovered</th>\n",
       "      <th>NewHospitalized</th>\n",
       "      <th>NewDeaths</th>\n",
       "      <th>Confirmed</th>\n",
       "      <th>Recovered</th>\n",
       "      <th>Hospitalized</th>\n",
       "      <th>Deaths</th>\n",
       "    </tr>\n",
       "    <tr>\n",
       "      <th>Date</th>\n",
       "      <th></th>\n",
       "      <th></th>\n",
       "      <th></th>\n",
       "      <th></th>\n",
       "      <th></th>\n",
       "      <th></th>\n",
       "      <th></th>\n",
       "      <th></th>\n",
       "    </tr>\n",
       "  </thead>\n",
       "  <tbody>\n",
       "    <tr>\n",
       "      <th>2021-01-01</th>\n",
       "      <td>279</td>\n",
       "      <td>33</td>\n",
       "      <td>244</td>\n",
       "      <td>2</td>\n",
       "      <td>7163</td>\n",
       "      <td>4273</td>\n",
       "      <td>2827</td>\n",
       "      <td>63</td>\n",
       "    </tr>\n",
       "    <tr>\n",
       "      <th>2021-01-02</th>\n",
       "      <td>216</td>\n",
       "      <td>26</td>\n",
       "      <td>189</td>\n",
       "      <td>1</td>\n",
       "      <td>7379</td>\n",
       "      <td>4299</td>\n",
       "      <td>3016</td>\n",
       "      <td>64</td>\n",
       "    </tr>\n",
       "    <tr>\n",
       "      <th>2021-01-03</th>\n",
       "      <td>315</td>\n",
       "      <td>38</td>\n",
       "      <td>277</td>\n",
       "      <td>0</td>\n",
       "      <td>7694</td>\n",
       "      <td>4337</td>\n",
       "      <td>3293</td>\n",
       "      <td>64</td>\n",
       "    </tr>\n",
       "    <tr>\n",
       "      <th>2021-01-04</th>\n",
       "      <td>745</td>\n",
       "      <td>15</td>\n",
       "      <td>729</td>\n",
       "      <td>1</td>\n",
       "      <td>8439</td>\n",
       "      <td>4352</td>\n",
       "      <td>4022</td>\n",
       "      <td>65</td>\n",
       "    </tr>\n",
       "    <tr>\n",
       "      <th>2021-01-05</th>\n",
       "      <td>527</td>\n",
       "      <td>45</td>\n",
       "      <td>482</td>\n",
       "      <td>0</td>\n",
       "      <td>8966</td>\n",
       "      <td>4397</td>\n",
       "      <td>4504</td>\n",
       "      <td>65</td>\n",
       "    </tr>\n",
       "    <tr>\n",
       "      <th>...</th>\n",
       "      <td>...</td>\n",
       "      <td>...</td>\n",
       "      <td>...</td>\n",
       "      <td>...</td>\n",
       "      <td>...</td>\n",
       "      <td>...</td>\n",
       "      <td>...</td>\n",
       "      <td>...</td>\n",
       "    </tr>\n",
       "    <tr>\n",
       "      <th>2021-08-04</th>\n",
       "      <td>20200</td>\n",
       "      <td>17975</td>\n",
       "      <td>2037</td>\n",
       "      <td>188</td>\n",
       "      <td>672385</td>\n",
       "      <td>455806</td>\n",
       "      <td>211076</td>\n",
       "      <td>5503</td>\n",
       "    </tr>\n",
       "    <tr>\n",
       "      <th>2021-08-05</th>\n",
       "      <td>20920</td>\n",
       "      <td>17926</td>\n",
       "      <td>2834</td>\n",
       "      <td>160</td>\n",
       "      <td>693305</td>\n",
       "      <td>473732</td>\n",
       "      <td>213910</td>\n",
       "      <td>5663</td>\n",
       "    </tr>\n",
       "    <tr>\n",
       "      <th>2021-08-06</th>\n",
       "      <td>21379</td>\n",
       "      <td>22172</td>\n",
       "      <td>-984</td>\n",
       "      <td>191</td>\n",
       "      <td>714684</td>\n",
       "      <td>495904</td>\n",
       "      <td>212926</td>\n",
       "      <td>5854</td>\n",
       "    </tr>\n",
       "    <tr>\n",
       "      <th>2021-08-07</th>\n",
       "      <td>21838</td>\n",
       "      <td>21108</td>\n",
       "      <td>518</td>\n",
       "      <td>212</td>\n",
       "      <td>736522</td>\n",
       "      <td>517012</td>\n",
       "      <td>213444</td>\n",
       "      <td>6066</td>\n",
       "    </tr>\n",
       "    <tr>\n",
       "      <th>2021-08-08</th>\n",
       "      <td>19983</td>\n",
       "      <td>18503</td>\n",
       "      <td>1342</td>\n",
       "      <td>138</td>\n",
       "      <td>756505</td>\n",
       "      <td>535515</td>\n",
       "      <td>214786</td>\n",
       "      <td>6204</td>\n",
       "    </tr>\n",
       "  </tbody>\n",
       "</table>\n",
       "<p>211 rows × 8 columns</p>\n",
       "</div>"
      ],
      "text/plain": [
       "            NewConfirmed  NewRecovered  NewHospitalized  NewDeaths  Confirmed  \\\n",
       "Date                                                                            \n",
       "2021-01-01           279            33              244          2       7163   \n",
       "2021-01-02           216            26              189          1       7379   \n",
       "2021-01-03           315            38              277          0       7694   \n",
       "2021-01-04           745            15              729          1       8439   \n",
       "2021-01-05           527            45              482          0       8966   \n",
       "...                  ...           ...              ...        ...        ...   \n",
       "2021-08-04         20200         17975             2037        188     672385   \n",
       "2021-08-05         20920         17926             2834        160     693305   \n",
       "2021-08-06         21379         22172             -984        191     714684   \n",
       "2021-08-07         21838         21108              518        212     736522   \n",
       "2021-08-08         19983         18503             1342        138     756505   \n",
       "\n",
       "            Recovered  Hospitalized  Deaths  \n",
       "Date                                         \n",
       "2021-01-01       4273          2827      63  \n",
       "2021-01-02       4299          3016      64  \n",
       "2021-01-03       4337          3293      64  \n",
       "2021-01-04       4352          4022      65  \n",
       "2021-01-05       4397          4504      65  \n",
       "...               ...           ...     ...  \n",
       "2021-08-04     455806        211076    5503  \n",
       "2021-08-05     473732        213910    5663  \n",
       "2021-08-06     495904        212926    5854  \n",
       "2021-08-07     517012        213444    6066  \n",
       "2021-08-08     535515        214786    6204  \n",
       "\n",
       "[211 rows x 8 columns]"
      ]
     },
     "metadata": {},
     "execution_count": 7
    }
   ],
   "metadata": {}
  },
  {
   "cell_type": "code",
   "execution_count": 8,
   "source": [
    "populations = 69990641\r\n",
    "Infected_cumm = covid_df['Confirmed'].values\r\n",
    "Recovered_cumm = covid_df['Recovered'].values\r\n",
    "Death_cumm = covid_df['Deaths'].values\r\n",
    "NewInfected = covid_df['NewConfirmed'].values\r\n",
    "NewRecovered = covid_df['NewRecovered'].values\r\n",
    "NewDeath = covid_df['NewDeaths'].values\r\n",
    "Recovered_and_Death = Recovered_cumm + Death_cumm\r\n",
    "Susceptible = populations-Recovered_and_Death\r\n",
    "Recovered_and_Death = Recovered_cumm + Death_cumm\r\n",
    "Infected = Infected_cumm - Recovered_and_Death # กลุ่ม Infected ที่ยังไม่หาย และก็ยังไม่ได้เสียชีวิต ก็คือกลุ่ม I ที่อยู่ใน SIR model"
   ],
   "outputs": [],
   "metadata": {}
  },
  {
   "cell_type": "code",
   "execution_count": 9,
   "source": [
    "# create this because we just need for calculation\r\n",
    "populations_list = np.array([populations]* len(Infected))"
   ],
   "outputs": [],
   "metadata": {}
  },
  {
   "cell_type": "code",
   "execution_count": 10,
   "source": [
    "np.seterr(divide='ignore') # เป็นการทำให้ 0/0 นั้นเราจะไม่สนใจ และประเมินว่ามันเป็น 0 ไปเลย"
   ],
   "outputs": [
    {
     "output_type": "execute_result",
     "data": {
      "text/plain": [
       "{'divide': 'warn', 'over': 'warn', 'under': 'ignore', 'invalid': 'warn'}"
      ]
     },
     "metadata": {},
     "execution_count": 10
    }
   ],
   "metadata": {}
  },
  {
   "cell_type": "code",
   "execution_count": 11,
   "source": [
    "'''\r\n",
    "    Finding Gamma \r\n",
    "    Assume that Infected won't ve zero\r\n",
    "'''\r\n",
    "beta = populations_list[:-1] * (Infected[1:] - Infected[:-1] + Recovered_and_Death[1:] - Recovered_and_Death[:-1]) / (Infected[:-1] * (populations_list[:-1] - Infected[:-1] - Recovered_and_Death[:-1]))\r\n",
    "gamma = (Recovered_and_Death[1:] - Recovered_and_Death[:-1]) / Infected[:-1]"
   ],
   "outputs": [],
   "metadata": {}
  },
  {
   "cell_type": "code",
   "execution_count": 12,
   "source": [
    "R0 = beta / gamma\r\n",
    "from numpy import nan,inf\r\n",
    "R0[R0 == inf] = 0\r\n",
    "R0 = np.nan_to_num(R0)"
   ],
   "outputs": [],
   "metadata": {}
  },
  {
   "cell_type": "code",
   "execution_count": 13,
   "source": [
    "### parameter for Ridge Regression ### \r\n",
    "# We Gonna use this order for FIR filters\r\n",
    "orders_beta = 3\r\n",
    "orders_gamma = 3\r\n",
    "##### Select a starting day for the data training in the ridge regression. #####\r\n",
    "start_beta = 10\r\n",
    "start_gamma = 10"
   ],
   "outputs": [],
   "metadata": {}
  },
  {
   "cell_type": "code",
   "execution_count": 14,
   "source": [
    "########## Print Info ##########\r\n",
    "print(\"\\nThe latest transmission rate beta of SIR model:\", beta[-1])\r\n",
    "print(\"The latest recovering rate gamma of SIR model:\", gamma[-1])\r\n",
    "print(\"The latest basic reproduction number R0:\", R0[-1])"
   ],
   "outputs": [
    {
     "output_type": "stream",
     "name": "stdout",
     "text": [
      "\n",
      "The latest transmission rate beta of SIR model: 0.0946174194984352\n",
      "The latest recovering rate gamma of SIR model: 0.08733438278892824\n",
      "The latest basic reproduction number R0: 1.0833925480083688\n"
     ]
    }
   ],
   "metadata": {}
  },
  {
   "cell_type": "code",
   "execution_count": 15,
   "source": [
    "x_beta, y_beta = data_spilt(beta, orders_beta, start_beta)\r\n",
    "x_gamma, y_gamma = data_spilt(gamma, orders_gamma, start_gamma)"
   ],
   "outputs": [],
   "metadata": {}
  },
  {
   "cell_type": "code",
   "execution_count": 16,
   "source": [
    "ridge?"
   ],
   "outputs": [
    {
     "output_type": "stream",
     "name": "stdout",
     "text": [
      "\u001b[1;31mSignature:\u001b[0m \u001b[0mridge\u001b[0m\u001b[1;33m(\u001b[0m\u001b[0mx\u001b[0m\u001b[1;33m,\u001b[0m \u001b[0my\u001b[0m\u001b[1;33m)\u001b[0m\u001b[1;33m\u001b[0m\u001b[1;33m\u001b[0m\u001b[0m\n",
      "\u001b[1;31mDocstring:\u001b[0m <no docstring>\n",
      "\u001b[1;31mFile:\u001b[0m      c:\\users\\admin\\appdata\\local\\temp\\ipykernel_29112\\4020830233.py\n",
      "\u001b[1;31mType:\u001b[0m      function\n"
     ]
    }
   ],
   "metadata": {}
  },
  {
   "cell_type": "code",
   "execution_count": 17,
   "source": [
    "##### Searching good parameters #####\r\n",
    "clf_beta = ridge(x_beta, y_beta)\r\n",
    "clf_gamma = ridge(x_gamma, y_gamma)"
   ],
   "outputs": [
    {
     "output_type": "stream",
     "name": "stdout",
     "text": [
      "\n",
      "Start searching good parameters for the task...\n",
      "\n",
      "Results for the parameters grid search:\n",
      "Model: Ridge(alpha=0.0, normalize=True, tol=1e-08)\n",
      "Score R^2: 0.19762795532039173\n",
      "\n",
      "Start searching good parameters for the task...\n",
      "\n",
      "Results for the parameters grid search:\n",
      "Model: Ridge(alpha=0.054700000000000006, tol=1e-08)\n",
      "Score R^2: 0.19329024110564721\n"
     ]
    }
   ],
   "metadata": {}
  },
  {
   "cell_type": "code",
   "execution_count": 18,
   "source": [
    "clf_beta = ridge(x_beta, y_beta)"
   ],
   "outputs": [
    {
     "output_type": "stream",
     "name": "stdout",
     "text": [
      "\n",
      "Start searching good parameters for the task...\n",
      "\n",
      "Results for the parameters grid search:\n",
      "Model: Ridge(alpha=0.0, normalize=True, tol=1e-08)\n",
      "Score R^2: 0.19762795532039173\n"
     ]
    }
   ],
   "metadata": {}
  },
  {
   "cell_type": "code",
   "execution_count": 19,
   "source": [
    "# เป็นการ train data ด้วยการใช้ Ridge regression เพื่อที่จะหาค่า multicollilation ที่ดีที่สุด เพื่อให้ค่า loss ออกมาน้อยที่สุดเท่าที่จะทำได้\r\n",
    "clf_beta = Ridge(alpha=0.0, copy_X=True, fit_intercept=False, max_iter=None, normalize=True, random_state=None, solver='auto', tol=1e-10).fit(x_beta, y_beta)\r\n",
    "clf_gamma = Ridge(alpha=0.0547, copy_X=True, fit_intercept=False, max_iter=None,normalize=True, random_state=None, solver='auto', tol=1e-10).fit(x_gamma, y_gamma)\r\n",
    "\r\n",
    "beta_hat = clf_beta.predict(x_beta) # เอา model ไป predict ค่า x_beta เดิมที่มีอยู่แล้ว\r\n",
    "gamma_hat = clf_gamma.predict(x_gamma)"
   ],
   "outputs": [],
   "metadata": {}
  },
  {
   "cell_type": "code",
   "execution_count": 20,
   "source": [
    "plt.figure(1) \r\n",
    "plt.plot(y_beta, label=r'$\\beta(t)$') # r'$\\beta คือการเขียนให้อยู่ในรูปแบบ beta ที่เราคุ้นเคย\r\n",
    "plt.plot(beta_hat, label=r'$\\hat{\\beta}(t)$') # เป็น Beta ที่ prdict \r\n",
    "plt.legend()\r\n",
    "\r\n",
    "plt.figure(2)\r\n",
    "plt.plot(y_gamma, label=r'$\\gamma (t)$')\r\n",
    "plt.plot(gamma_hat, label=r'$\\hat{\\gamma}(t)$')\r\n",
    "plt.legend()"
   ],
   "outputs": [
    {
     "output_type": "execute_result",
     "data": {
      "text/plain": [
       "<matplotlib.legend.Legend at 0x17d8892a3d0>"
      ]
     },
     "metadata": {},
     "execution_count": 20
    },
    {
     "output_type": "display_data",
     "data": {
      "image/png": "[encoded data removed]",
      "text/plain": [
       "<Figure size 432x288 with 1 Axes>"
      ]
     },
     "metadata": {
      "needs_background": "light"
     }
    },
    {
     "output_type": "display_data",
     "data": {
      "image/png": "[encoded data removed]",
      "text/plain": [
       "<Figure size 432x288 with 1 Axes>"
      ]
     },
     "metadata": {
      "needs_background": "light"
     }
    }
   ],
   "metadata": {}
  },
  {
   "cell_type": "code",
   "execution_count": 21,
   "source": [
    "covid_df.shape"
   ],
   "outputs": [
    {
     "output_type": "execute_result",
     "data": {
      "text/plain": [
       "(211, 8)"
      ]
     },
     "metadata": {},
     "execution_count": 21
    }
   ],
   "metadata": {}
  },
  {
   "cell_type": "code",
   "execution_count": 22,
   "source": [
    "beta.shape"
   ],
   "outputs": [
    {
     "output_type": "execute_result",
     "data": {
      "text/plain": [
       "(210,)"
      ]
     },
     "metadata": {},
     "execution_count": 22
    }
   ],
   "metadata": {}
  },
  {
   "cell_type": "code",
   "execution_count": 23,
   "source": [
    "########## Time-dependent SIR model ##########\r\n",
    "\r\n",
    "##### Parameters for the Time-dependent SIR model #####\r\n",
    "stop_X = 0 # stopping criteria\r\n",
    "\r\n",
    "# iteration -> การวนซ้ำ ในที่นี้หมายถึงการทำให้เกิด loop\r\n",
    "stop_day = 211 # maximum iteration days (W in the paper) คือวันที่มากที่สุดที่ข้อมูลมีอยู่ตอนนั้น ก็คือ 554 วัน \r\n",
    "\r\n",
    "day_count = 0\r\n",
    "turning_point = 0"
   ],
   "outputs": [],
   "metadata": {}
  },
  {
   "cell_type": "code",
   "execution_count": 24,
   "source": [
    "Susceptible_predict = [Susceptible[-1]] # กลุ่มที่ยังไม่ได้เข้ามาอยู่ในส่วนของ Infected หรือว่า Recovered (ก็คือเป็นแล้วหาย)\r\n",
    "Infected_predict = [Infected[-1]] # เป็นแล้วยังไม่หาย หรือว่ายังไม่เสียชีวิต\r\n",
    "Recovered_and_Death_predict = [Recovered_and_Death[-1]]"
   ],
   "outputs": [],
   "metadata": {}
  },
  {
   "cell_type": "markdown",
   "source": [
    "<h2>ในการจะ predict ค่า new confirm ออกมานั้น จะต้องหาค่า confirm(t) confirm(t-1) ออกมาให้ได้ก่อน จากการใช้ Infected_predict(t) + Recovered_predict(t)"
   ],
   "metadata": {}
  },
  {
   "cell_type": "code",
   "execution_count": 25,
   "source": [
    "########## Time-dependent SIR model ##########\r\n",
    "\r\n",
    "##### Parameters for the Time-dependent SIR model #####\r\n",
    "stop_X = 0 # stopping criteria\r\n",
    "\r\n",
    "# iteration -> การวนซ้ำ ในที่นี้หมายถึงการทำให้เกิด loop\r\n",
    "stop_day = 554 # maximum iteration days (W in the paper) คือวันที่มากที่สุดที่ข้อมูลมีอยู่ตอนนั้น ก็คือ 554 วัน \r\n",
    "\r\n",
    "day_count = 0\r\n",
    "turning_point = 0\r\n",
    "\r\n",
    "Susceptible_predict = [Susceptible[-1]] # กลุ่มที่ยังไม่ได้เข้ามาอยู่ในส่วนของ Infected หรือว่า Recovered (ก็คือเป็นแล้วหาย)\r\n",
    "Infected_predict = [Infected[-1]] # เป็นแล้วยังไม่หาย หรือว่ายังไม่เสียชีวิต\r\n",
    "Recovered_and_Death_predict = [Recovered_and_Death[-1]]\r\n",
    "\r\n",
    "predict_beta = np.array(beta[-orders_beta:]).tolist()\r\n",
    "predict_gamma = np.array(gamma[-orders_gamma:]).tolist()\r\n",
    "while (Infected_predict[-1] >= stop_X) and (day_count <= stop_day):\r\n",
    "    if predict_beta[-1] > predict_gamma[-1]:\r\n",
    "        turning_point += 1\r\n",
    "\r\n",
    "    next_beta = clf_beta.predict(np.asarray([predict_beta[-orders_beta:]]))[0]\r\n",
    "    next_gamma = clf_gamma.predict(np.asarray([predict_gamma[-orders_gamma:]]))[0]\r\n",
    "\r\n",
    "    if next_beta < 0:\r\n",
    "        next_beta = 0\r\n",
    "    if next_gamma < 0:\r\n",
    "        next_gamma = 0\r\n",
    "\r\n",
    "    predict_beta.append(next_beta)\r\n",
    "    predict_gamma.append(next_gamma)\r\n",
    "\r\n",
    "    next_S = ((-predict_beta[-1] * Susceptible_predict[-1] *\r\n",
    "               Infected_predict[-1]) / populations_list[-1]) + Susceptible_predict[-1]\r\n",
    "    next_I = ((predict_beta[-1] * Susceptible_predict[-1] * Infected_predict[-1]) /\r\n",
    "              populations_list[-1]) - (predict_gamma[-1] * Infected_predict[-1]) + Infected_predict[-1]\r\n",
    "    next_R = (predict_gamma[-1] * Infected_predict[-1]) + Recovered_and_Death_predict[-1]\r\n",
    "\r\n",
    "    Susceptible_predict.append(next_S)\r\n",
    "    Infected_predict.append(next_I)\r\n",
    "    Recovered_and_Death_predict.append(next_R)\r\n",
    "\r\n",
    "    day_count += 1"
   ],
   "outputs": [],
   "metadata": {}
  },
  {
   "cell_type": "code",
   "execution_count": 26,
   "source": [
    "I_t = np.array(Infected_predict)+ np.array(Recovered_and_Death_predict)"
   ],
   "outputs": [],
   "metadata": {}
  },
  {
   "cell_type": "code",
   "execution_count": 27,
   "source": [
    "I_t[1]-I_t[0] # tomorrow"
   ],
   "outputs": [
    {
     "output_type": "execute_result",
     "data": {
      "text/plain": [
       "20137.984392210958"
      ]
     },
     "metadata": {},
     "execution_count": 27
    }
   ],
   "metadata": {}
  },
  {
   "cell_type": "code",
   "execution_count": 28,
   "source": [
    "I_diff = np.rint([I_t[1:]- I_t[:-1]])[0].astype('int')"
   ],
   "outputs": [],
   "metadata": {}
  },
  {
   "cell_type": "code",
   "execution_count": 29,
   "source": [
    "I_diff # This var is refered to new confirmed cases"
   ],
   "outputs": [
    {
     "output_type": "execute_result",
     "data": {
      "text/plain": [
       "array([20138, 20028, 19472, 19347, 19211, 19008, 18917, 18844, 18775,\n",
       "       18746, 18736, 18739, 18763, 18800, 18849, 18910, 18981, 19060,\n",
       "       19147, 19239, 19336, 19437, 19541, 19647, 19754, 19861, 19968,\n",
       "       20074, 20177, 20279, 20377, 20472, 20562, 20648, 20729, 20804,\n",
       "       20873, 20936, 20993, 21043, 21086, 21121, 21149, 21170, 21182,\n",
       "       21187, 21184, 21173, 21154, 21126, 21091, 21048, 20997, 20938,\n",
       "       20871, 20797, 20715, 20625, 20529, 20425, 20315, 20198, 20074,\n",
       "       19944, 19808, 19666, 19519, 19366, 19208, 19045, 18877, 18705,\n",
       "       18529, 18348, 18164, 17976, 17785, 17591, 17395, 17195, 16994,\n",
       "       16790, 16584, 16376, 16167, 15957, 15746, 15533, 15320, 15107,\n",
       "       14893, 14678, 14464, 14250, 14036, 13822, 13609, 13397, 13186,\n",
       "       12975, 12765, 12557, 12350, 12144, 11939, 11736, 11535, 11335,\n",
       "       11137, 10941, 10747, 10554, 10364, 10176,  9989,  9805,  9623,\n",
       "        9443,  9266,  9090,  8917,  8747,  8578,  8412,  8248,  8087,\n",
       "        7928,  7771,  7616,  7464,  7315,  7167,  7022,  6880,  6739,\n",
       "        6601,  6465,  6332,  6201,  6072,  5945,  5821,  5699,  5579,\n",
       "        5461,  5345,  5231,  5120,  5010,  4903,  4797,  4694,  4593,\n",
       "        4493,  4396,  4300,  4206,  4114,  4024,  3936,  3849,  3764,\n",
       "        3681,  3600,  3520,  3442,  3365,  3290,  3217,  3145,  3075,\n",
       "        3006,  2938,  2872,  2807,  2744,  2682,  2621,  2562,  2504,\n",
       "        2447,  2391,  2337,  2284,  2232,  2181,  2131,  2082,  2034,\n",
       "        1988,  1942,  1898,  1854,  1811,  1770,  1729,  1689,  1650,\n",
       "        1612,  1575,  1538,  1503,  1468,  1434,  1400,  1368,  1336,\n",
       "        1305,  1275,  1245,  1216,  1188,  1160,  1133,  1107,  1081,\n",
       "        1055,  1031,  1007,   983,   960,   938,   916,   894,   873,\n",
       "         853,   833,   813,   794,   775,   757,   739,   722,   705,\n",
       "         688,   672,   656,   641,   626,   611,   597,   583,   569,\n",
       "         555,   542,   530,   517,   505,   493,   481,   470,   459,\n",
       "         448,   437,   427,   417,   407,   397,   388,   379,   370,\n",
       "         361,   353,   344,   336,   328,   320,   313,   305,   298,\n",
       "         291,   284,   277,   271,   264,   258,   252,   246,   240,\n",
       "         234,   229,   223,   218,   213,   208,   203,   198,   193,\n",
       "         189,   184,   180,   176,   172,   167,   163,   160,   156,\n",
       "         152,   148,   145,   142,   138,   135,   132,   129,   125,\n",
       "         122,   120,   117,   114,   111,   109,   106,   103,   101,\n",
       "          99,    96,    94,    92,    90,    87,    85,    83,    81,\n",
       "          79,    78,    76,    74,    72,    70,    69,    67,    65,\n",
       "          64,    62,    61,    59,    58,    57,    55,    54,    53,\n",
       "          51,    50,    49,    48,    47,    46,    45,    43,    42,\n",
       "          41,    40,    39,    39,    38,    37,    36,    35,    34,\n",
       "          33,    33,    32,    31,    30,    30,    29,    28,    27,\n",
       "          27,    26,    26,    25,    24,    24,    23,    23,    22,\n",
       "          22,    21,    21,    20,    20,    19,    19,    18,    18,\n",
       "          17,    17,    17,    16,    16,    15,    15,    15,    14,\n",
       "          14,    14,    13,    13,    13,    12,    12,    12,    12,\n",
       "          11,    11,    11,    10,    10,    10,    10,    10,     9,\n",
       "           9,     9,     9,     8,     8,     8,     8,     8,     7,\n",
       "           7,     7,     7,     7,     7,     6,     6,     6,     6,\n",
       "           6,     6,     6,     5,     5,     5,     5,     5,     5,\n",
       "           5,     5,     5,     4,     4,     4,     4,     4,     4,\n",
       "           4,     4,     4,     4,     3,     3,     3,     3,     3,\n",
       "           3,     3,     3,     3,     3,     3,     3,     3,     3,\n",
       "           2,     2,     2,     2,     2,     2,     2,     2,     2,\n",
       "           2,     2,     2,     2,     2,     2,     2,     2,     2,\n",
       "           2,     2,     2,     1,     1,     1,     1,     1,     1,\n",
       "           1,     1,     1,     1,     1,     1,     1,     1,     1,\n",
       "           1,     1,     1,     1,     1,     1,     1,     1,     1,\n",
       "           1,     1,     1,     1,     1,     1,     1,     1,     1,\n",
       "           1,     1,     1,     1,     1,     1,     1,     1,     1,\n",
       "           1,     1,     1,     1,     0,     0,     0,     0,     0,\n",
       "           0,     0,     0,     0,     0,     0,     0,     0,     0,\n",
       "           0,     0,     0,     0,     0,     0])"
      ]
     },
     "metadata": {},
     "execution_count": 29
    }
   ],
   "metadata": {}
  },
  {
   "cell_type": "code",
   "execution_count": 41,
   "source": [
    "# I_diff[0] คือของวันที่ 8 สิงหา 2564\r\n",
    "print(f'New Confirmed cases tomorrow: {I_diff[9]}')\r\n",
    "print(f'New predict Confirmed cases on Tuesday 17: {I_diff[9]}')\r\n",
    "print(f'New predict Confirmed cases on Tuesday 24: {I_diff[16]}')\r\n",
    "print(f'New predict Confirmed cases on Tuesday 31: {I_diff[23]}')\r\n",
    "print(f'New Confirmed cases on Tuesday 17: 20128 and error rate (ER) is {np.round(np.abs(I_diff[9]-20128)/20128*100)} % and accuracy is {(1-(np.abs(I_diff[9]-20128)/20128))*100} %')\r\n",
    "print(f'New Confirmed cases on Tuesday 24: 17165 and error rate (ER) is {np.round(np.abs(I_diff[16]-17165)/17165*100)} % and accuracy is {(1-(np.abs(I_diff[16]-17165)/17165))*100} %')\r\n",
    "print(f'New Confirmed cases on Tuesday 31: 14666 and error rate (ER) is {np.round(np.abs(I_diff[23]-14666)/14666*100)} % and accuracy is {(1-(np.abs(I_diff[23]-14666)/14666))*100} %')"
   ],
   "outputs": [
    {
     "output_type": "stream",
     "name": "stdout",
     "text": [
      "New Confirmed cases tomorrow: 18746\n",
      "New predict Confirmed cases on Tuesday 17: 18746\n",
      "New predict Confirmed cases on Tuesday 24: 18981\n",
      "New predict Confirmed cases on Tuesday 31: 19647\n",
      "New Confirmed cases on Tuesday 17: 20128 and error rate (ER) is 7.0 % and accuracy is 93.1339427662957 %\n",
      "New Confirmed cases on Tuesday 24: 17165 and error rate (ER) is 11.0 % and accuracy is 89.42033207107485 %\n",
      "New Confirmed cases on Tuesday 31: 14666 and error rate (ER) is 34.0 % and accuracy is 66.03709259511797 %\n"
     ]
    }
   ],
   "metadata": {}
  },
  {
   "cell_type": "code",
   "execution_count": 31,
   "source": [
    "########## Print Info ##########\r\n",
    "print('\\nConfirmed cases tomorrow:', np.rint(Susceptible_predict[1] + Recovered_and_Death_predict[1]))\r\n",
    "print('Infected persons tomorrow:', np.rint(Infected_predict[1]))\r\n",
    "print('Recovered + Death persons tomorrow:', np.rint(Recovered_and_Death_predict[1]))\r\n",
    "print('New confirmed:' ,np.rint(Infected_predict[0]-Infected_predict[1])+np.rint(Recovered_and_Death_predict[1]-Recovered_and_Death_predict[0]))\r\n",
    "\r\n",
    "print('\\nEnd day:', day_count)\r\n",
    "print('Confirmed cases on the end day:', np.rint(Infected_predict[-2] + Recovered_and_Death_predict[-2]))\r\n",
    "\r\n",
    "print('\\nTuring point:', turning_point)"
   ],
   "outputs": [
    {
     "output_type": "stream",
     "name": "stdout",
     "text": [
      "\n",
      "Confirmed cases tomorrow: 69988826.0\n",
      "Infected persons tomorrow: 216601.0\n",
      "Recovered + Death persons tomorrow: 560042.0\n",
      "New confirmed: 16508.0\n",
      "\n",
      "End day: 555\n",
      "Confirmed cases on the end day: 3272387.0\n",
      "\n",
      "Turing point: 555\n"
     ]
    }
   ],
   "metadata": {}
  },
  {
   "cell_type": "code",
   "execution_count": 32,
   "source": [
    "I_t = np.rint(np.array(Infected_predict) + np.array(Recovered_and_Death_predict))"
   ],
   "outputs": [],
   "metadata": {}
  },
  {
   "cell_type": "code",
   "execution_count": 33,
   "source": [
    "plt.figure(3)\r\n",
    "plt.plot(range(len(Infected) - 1, len(Infected) - 1 + len(Infected_predict)), Infected_predict, '*-', label=r'$\\hat{I}(t)$', color='darkorange')\r\n",
    "plt.plot(range(len(Infected) - 1, len(Infected) - 1 + len(Infected_predict)), Recovered_and_Death_predict, '*-', label=r'$\\hat{R}(t)$', color='limegreen')\r\n",
    "plt.plot(range(len(Infected)), Infected, 'o--', label=r'$I(t)$', color='chocolate')\r\n",
    "plt.plot(range(len(Infected)), Recovered_and_Death, 'o--', label=r'$R(t)$', color='darkgreen')\r\n",
    "plt.xlabel('Day')\r\n",
    "plt.ylabel('Person')\r\n",
    "plt.title('Time evolution of the time-dependent SIR model.')\r\n",
    "\r\n",
    "plt.legend()\r\n",
    "\r\n",
    "plt.show()"
   ],
   "outputs": [
    {
     "output_type": "display_data",
     "data": {
      "image/png": "[encoded data removed]",
      "text/plain": [
       "<Figure size 432x288 with 1 Axes>"
      ]
     },
     "metadata": {
      "needs_background": "light"
     }
    }
   ],
   "metadata": {}
  }
 ],
 "metadata": {
  "orig_nbformat": 4,
  "language_info": {
   "name": "python",
   "version": "3.8.10",
   "mimetype": "text/x-python",
   "codemirror_mode": {
    "name": "ipython",
    "version": 3
   },
   "pygments_lexer": "ipython3",
   "nbconvert_exporter": "python",
   "file_extension": ".py"
  },
  "kernelspec": {
   "name": "python3",
   "display_name": "Python 3.8.10 64-bit ('base': conda)"
  },
  "interpreter": {
   "hash": "183bbf6827d058c2a2fb0f4acdc0420849dda2b4380af0e437e38c64d798d8b7"
  }
 },
 "nbformat": 4,
 "nbformat_minor": 2
}